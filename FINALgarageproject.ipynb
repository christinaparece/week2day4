{
 "cells": [
  {
   "cell_type": "code",
   "execution_count": 1,
   "metadata": {},
   "outputs": [
    {
     "ename": "SyntaxError",
     "evalue": "invalid syntax (<ipython-input-1-aaffd75f5409>, line 3)",
     "output_type": "error",
     "traceback": [
      "\u001b[0;36m  File \u001b[0;32m\"<ipython-input-1-aaffd75f5409>\"\u001b[0;36m, line \u001b[0;32m3\u001b[0m\n\u001b[0;31m    Your assignment for today is to create a parking garage class to get more familiar with Object Oriented Programming(OOP).\u001b[0m\n\u001b[0m         ^\u001b[0m\n\u001b[0;31mSyntaxError\u001b[0m\u001b[0;31m:\u001b[0m invalid syntax\n"
     ]
    }
   ],
   "source": [
    "# Parking Garage Project\n",
    "\n",
    "Your assignment for today is to create a parking garage class to get more familiar with Object Oriented Programming(OOP). \n",
    "\n",
    "Your parking gargage class should have the following methods:\n",
    "- takeTicket\n",
    "   - This should decrease the amount of tickets available by 1\n",
    "   - This should decrease the amount of parkingSpaces available by 1\n",
    "- payForParking\n",
    "   - Display an input that waits for an amount from the user and store it in a variable\n",
    "   - If the payment variable is not empty then ->  display a message to the user that their ticket has been paid and they have 15mins to leave\n",
    "   - This should uppaydate the \"currentTicket\" dictionary key \"paid\" to True\n",
    "- leaveGarage\n",
    "   - If the ticket has been paid, display a message of \"Thank You, have a nice day\"\n",
    "   - If the ticket has not been paid, display an input prompt for payment\n",
    "      - Once paid, display message \"Thank you, have a nice day!\"\n",
    "   - Update parkingSpaces list to increase by 1\n",
    "   - Update tickets list to increase by 1\n",
    "\n",
    "You will need a few attributes as well:\n",
    "- tickets -> list\n",
    "- parkingSpaces -> list\n",
    "- currentTicket -> dictionary"
   ]
  },
  {
   "cell_type": "code",
   "execution_count": null,
   "metadata": {},
   "outputs": [],
   "source": [
    "from IPython.display import clear_output\n",
    "\n"
   ]
  },
  {
   "cell_type": "code",
   "execution_count": null,
   "metadata": {},
   "outputs": [
    {
     "name": "stdout",
     "output_type": "stream",
     "text": [
      "Welcome to the garage. What do you want to do? park , pay or leave ?park\n",
      "['2', '3', '4', '5', '6', '7', '8', '9', '10']\n",
      "{'1': {'paid': False, 'amount': ''}}\n",
      "Welcome to the garage. What do you want to do? park , pay or leave ?park\n",
      "['3', '4', '5', '6', '7', '8', '9', '10']\n",
      "{'1': {'paid': False, 'amount': ''}, '2': {'paid': False, 'amount': ''}}\n",
      "Welcome to the garage. What do you want to do? park , pay or leave ?park\n",
      "['4', '5', '6', '7', '8', '9', '10']\n",
      "{'1': {'paid': False, 'amount': ''}, '2': {'paid': False, 'amount': ''}, '3': {'paid': False, 'amount': ''}}\n",
      "Welcome to the garage. What do you want to do? park , pay or leave ?park\n",
      "['5', '6', '7', '8', '9', '10']\n",
      "{'1': {'paid': False, 'amount': ''}, '2': {'paid': False, 'amount': ''}, '3': {'paid': False, 'amount': ''}, '4': {'paid': False, 'amount': ''}}\n",
      "Welcome to the garage. What do you want to do? park , pay or leave ?pay\n",
      "Enter ticket number3\n",
      "please pay the parking amount displayed on your ticket40\n",
      "Ticket has been paid, please leave in 15 mins\n",
      "['5', '6', '7', '8', '9', '10']\n",
      "{'1': {'paid': False, 'amount': ''}, '2': {'paid': False, 'amount': ''}, '3': {'paid': True, 'amount': '40'}, '4': {'paid': False, 'amount': ''}}\n",
      "Welcome to the garage. What do you want to do? park , pay or leave ?pay\n",
      "Enter ticket number3\n",
      "Ticket has been paid\n",
      "Welcome to the garage. What do you want to do? park , pay or leave ?leave\n",
      "Enter ticket number3\n",
      "Thank You, have a nice day\n",
      "['5', '6', '7', '8', '9', '10', '3']\n",
      "{'1': {'paid': False, 'amount': ''}, '2': {'paid': False, 'amount': ''}, '4': {'paid': False, 'amount': ''}}\n"
     ]
    }
   ],
   "source": [
    "#using classes and Objects (Final Project)\n",
    "\n",
    "class Garage:\n",
    "    def takeTicket(self, tickets, currentTicket):\n",
    "        currentTicket.update({tickets[0]:{\"paid\": False, \"amount\": \"\"}})\n",
    "        tickets.remove(tickets[0])\n",
    "\n",
    "    def payForParking(self, ticket_number, currentTicket):\n",
    "        amount = input(\"please pay the parking amount displayed on your ticket\")\n",
    "        currentTicket.update({ticket_number:{\"paid\": True, \"amount\": amount}})\n",
    "\n",
    "    def leaveGarage(self, ticket_number, tickets, currentTicket):\n",
    "        tickets.append(ticket_number)\n",
    "        currentTicket.pop(ticket_number)\n",
    "        print(\"Thank You, have a nice day\")\n",
    "\n",
    "\n",
    "tickets = ['1','2','3','4','5','6','7','8','9','10']\n",
    "#parkingSpaces = [1,2,3,4,5,6,7,8,9,10]\n",
    "currentTicket = {}\n",
    "\n",
    "while True:\n",
    "    action = input('Welcome to the garage. What do you want to do? park , pay or leave ?')\n",
    "    if action == 'park':\n",
    "        park = Garage()\n",
    "        park.takeTicket(tickets,currentTicket)\n",
    "        print(tickets)\n",
    "        print(currentTicket)\n",
    "        \n",
    "    elif action == 'pay':\n",
    "        ticket_number = input('Enter ticket number')\n",
    "        if (currentTicket[ticket_number][\"amount\"]) == \"\":\n",
    "            pay = Garage()\n",
    "            pay.payForParking(ticket_number, currentTicket)\n",
    "            print(\"Ticket has been paid, please leave in 15 mins\")\n",
    "            print(tickets)\n",
    "            print(currentTicket)\n",
    "            \n",
    "        \n",
    "        else:\n",
    "            print(\"Ticket has been paid\")\n",
    "\n",
    "    elif action == 'leave':\n",
    "        ticket_number = input('Enter ticket number')\n",
    "        if (currentTicket[ticket_number][\"paid\"]) == True:\n",
    "            leave = Garage()\n",
    "            leave.leaveGarage(ticket_number, tickets, currentTicket)\n",
    "            print(tickets)\n",
    "            print(currentTicket)\n",
    "            \n",
    "        else:\n",
    "            leave = Garage()\n",
    "            leave.payForParking(ticket_number, currentTicket)\n",
    "            leave.leaveGarage(ticket_number, tickets, currentTicket)\n",
    "            print(tickets)\n",
    "            print(currentTicket)\n",
    "            \n",
    "    else:\n",
    "        print(action + \" is invalid option - Please select one of the options - 'park','pay','leave' \")"
   ]
  },
  {
   "cell_type": "code",
   "execution_count": null,
   "metadata": {},
   "outputs": [],
   "source": []
  }
 ],
 "metadata": {
  "kernelspec": {
   "display_name": "Python 3",
   "language": "python",
   "name": "python3"
  },
  "language_info": {
   "codemirror_mode": {
    "name": "ipython",
    "version": 3
   },
   "file_extension": ".py",
   "mimetype": "text/x-python",
   "name": "python",
   "nbconvert_exporter": "python",
   "pygments_lexer": "ipython3",
   "version": "3.8.8"
  }
 },
 "nbformat": 4,
 "nbformat_minor": 2
}
